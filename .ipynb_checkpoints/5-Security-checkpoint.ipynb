{
 "cells": [
  {
   "cell_type": "markdown",
   "metadata": {},
   "source": [
    "# Security"
   ]
  },
  {
   "cell_type": "markdown",
   "metadata": {},
   "source": [
    "#### Describe the process of signing an image"
   ]
  },
  {
   "cell_type": "markdown",
   "metadata": {},
   "source": [
    "Docker Content Trust (DCT) allows operations with a remote Docker registry to enforce client-side signing and verification of image tags. \n",
    "\n",
    "DCT allows operations with a remote Docker registry to enforce client-side signing and vertification of image tags. \n",
    "\n",
    "DCT provides the ability to use digital signatures for data sent to and received from remote Docker registries. These signatures allow client-side verification of the integrity and publisher of specific image tags."
   ]
  },
  {
   "cell_type": "markdown",
   "metadata": {},
   "source": [
    "#### Demonstrate that an image passes a security scan"
   ]
  },
  {
   "cell_type": "markdown",
   "metadata": {},
   "source": [
    "Dockerhub currently provides the capability to tag an image upload it to dockerhub and run vulnerability scanning against it."
   ]
  },
  {
   "cell_type": "markdown",
   "metadata": {},
   "source": [
    "####  Enable Docker Content Trust"
   ]
  },
  {
   "cell_type": "code",
   "execution_count": null,
   "metadata": {},
   "outputs": [],
   "source": [
    "export DOCKER_CONTENT_TRUST=1"
   ]
  },
  {
   "cell_type": "markdown",
   "metadata": {},
   "source": [
    "#### Configure RBAC in UCP"
   ]
  },
  {
   "cell_type": "code",
   "execution_count": null,
   "metadata": {},
   "outputs": [],
   "source": []
  },
  {
   "cell_type": "markdown",
   "metadata": {},
   "source": [
    "#### Integrate UCP with LDAP/AD"
   ]
  },
  {
   "cell_type": "code",
   "execution_count": null,
   "metadata": {},
   "outputs": [],
   "source": []
  },
  {
   "cell_type": "markdown",
   "metadata": {},
   "source": [
    "#### Demonstrate creation of UCP client bundles"
   ]
  },
  {
   "cell_type": "markdown",
   "metadata": {},
   "source": [
    "This is where you can download a client certificate bundle, and then use the docker cli which updates the 'DOCKER_HOST' and 'DOCKER_CERT_PATH' environment variables to make the docker CLI client interact with the UCP and use the client certificates that was downloaded. \n",
    "\n",
    "It will then include the user client certificate as part of the request to UCP. "
   ]
  },
  {
   "cell_type": "markdown",
   "metadata": {},
   "source": [
    "#### Describe default engine security"
   ]
  },
  {
   "cell_type": "markdown",
   "metadata": {},
   "source": [
    "Docker engine security involves the consideration of 4 areas\n",
    "\n",
    "1. The host's kernel support of namespaces and cgroups \n",
    "2. Limited 'attack surface' of the Docker daemon \n",
    "3. Customisation of container configuration profiles \n",
    "4. Hardening features of the kernel and their interaction with underlying containers \n",
    "\n",
    "Namespaces provide isolation to running containers so they cannot see or affect other processes on the host. Namespaces provide an isolated process, network, and volume stacks to enable that isolation. \n",
    "\n",
    "Control groups implement resource management (allocating and reporting) to further minimise the effect of a container on a host. As a result, both play a role in minimising (or mitigating completely) various security risks, such as the denial of service attacks on a container, privilege escalation exploits, etc.\n",
    "\n",
    "The 'attack surface' is affected by the fact that daemon requires ROOT account privileges, so more care than normal should be applied when changing parameters and/or known secure default configurations. \n",
    "\n",
    "Even when 'trusted users' are given access to the daemon for control, unknowingly malicious images with 'docker load' type commands is a concern. The addition of Docker EE features with UCP, DTR and DCT can address some of those risks. "
   ]
  },
  {
   "cell_type": "markdown",
   "metadata": {},
   "source": [
    "#### Describe swarm default security"
   ]
  },
  {
   "cell_type": "markdown",
   "metadata": {},
   "source": [
    "In addition to Docker Engine security protections, Docker Swarm makes heavy use of the Overlay Network Model. \n",
    "\n",
    "This model comes prepared with security and support for communication encryption (using the option when creating the network for use).\n",
    "\n",
    "This does not extend to windows, where encryption is not supported. "
   ]
  },
  {
   "cell_type": "markdown",
   "metadata": {},
   "source": [
    "#### Describe MTLS"
   ]
  },
  {
   "cell_type": "markdown",
   "metadata": {},
   "source": [
    "Mutually Authenticated TLS \n",
    "\n",
    "one of the primary goals of the docker swarm is to be 'secure by default'. A meathod to ensure communication within the swarm is implemented. \n",
    "\n",
    "MTLS is the implementation that was chosen to secure that communication. Any time a swarm is initialised, a self-signed CA is generated and issues certificates to every node (manager or worker) to facilitate those secure communications.\n",
    "\n",
    "TLS was born from the SSL whose name is more well known. However, TLS has since superseded its use. Although their names are often used interchangeably, TLS provides greater security through message authentication, key material generation, and supported cipher suites. \n",
    "\n",
    "Using the temporary certificates that are generated during a swarm initialisation, workers and managers can register themselves with the swarm for communication. \n",
    "\n",
    "Using TLS provides both privacy and data integrity in communications within the swarm. The transaction consists of a two-layer (Record and Handshake) protocol that provides both security and authentication. \n"
   ]
  },
  {
   "cell_type": "markdown",
   "metadata": {},
   "source": [
    "#### Identity roles"
   ]
  },
  {
   "cell_type": "markdown",
   "metadata": {},
   "source": [
    "Within UCP (Universal Control Plane), Docker has 2 types of users\n",
    "\n",
    "1. Administrators - can make changes to the UCP swarm. \n",
    "2. Regular Users - have permissions that range from full control to no access to any number of resources. \n",
    "\n",
    "Within the Universal Control Plane, only users that are designated as 'administrators' can make changes to the swarms. This also includes:\n",
    "  - User Management \n",
    "  - Organisation Management \n",
    "  - Team Management \n",
    "  \n",
    "Roles - a role consists of one ore more permissions granted on a collection that is assigned to a user, org and/or team by using grants. \n",
    "\n",
    "    - None: no access to swarm resources \n",
    "    - View Only: the user can view resources but cannot create/delete/modify them \n",
    "    - Restricted Control: grants ability to view and edit volumes, networks, images but cannot run services, cannot exec\n",
    "    - Scheduler: allows to view nodes and schedule workloads \n",
    "    - Full Control: they can do most things but cannot see other users containers or services \n",
    "    "
   ]
  },
  {
   "cell_type": "markdown",
   "metadata": {},
   "source": [
    "#### Describe the difference between UCP workers and managers"
   ]
  },
  {
   "cell_type": "code",
   "execution_count": null,
   "metadata": {},
   "outputs": [],
   "source": []
  },
  {
   "cell_type": "markdown",
   "metadata": {},
   "source": [
    "#### Describe process to use external certificates with UCP and DTR"
   ]
  },
  {
   "cell_type": "markdown",
   "metadata": {},
   "source": [
    "Within UCP under settings and certificates, you would enter the CA certificate and the server certificate"
   ]
  }
 ],
 "metadata": {
  "kernelspec": {
   "display_name": "Python 3",
   "language": "python",
   "name": "python3"
  },
  "language_info": {
   "codemirror_mode": {
    "name": "ipython",
    "version": 2
   },
   "file_extension": ".py",
   "mimetype": "text/x-python",
   "name": "python",
   "nbconvert_exporter": "python",
   "pygments_lexer": "ipython2",
   "version": "2.7.5"
  }
 },
 "nbformat": 4,
 "nbformat_minor": 2
}
