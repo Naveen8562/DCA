{
 "cells": [
  {
   "cell_type": "markdown",
   "metadata": {},
   "source": [
    "# Image Creation, Management, and Registry"
   ]
  },
  {
   "cell_type": "markdown",
   "metadata": {},
   "source": [
    "#### Describe Dockerfile options [add, copy, volumes, expose, entrypoint, etc)"
   ]
  },
  {
   "cell_type": "code",
   "execution_count": 10,
   "metadata": {},
   "outputs": [],
   "source": [
    "%%bash\n",
    "\n",
    "touch dockerfile"
   ]
  },
  {
   "cell_type": "markdown",
   "metadata": {},
   "source": [
    "#### Show the main parts of a Dockerfile"
   ]
  },
  {
   "cell_type": "markdown",
   "metadata": {},
   "source": [
    "A dockerfile can build images automatically using the instructions within the file. \n",
    "\n",
    "The main parts of a dockerfile are the following \n",
    "\n",
    "\n",
    "FROM - initialises a new build stage and sets the base image for subsequent instructions \n",
    "\n",
    "RUN - execute any commands in a new layer on top of the current image and commit the results \n",
    "\n",
    "CMD - There can only be 1 CMD instruction, only the last CMD will take effect if there is multiple. \n",
    "\n",
    "LABEL - Adds metadata to an image, it is a key-value pair. \n",
    "\n",
    "EXPOSE - Informs docker that the container listens on the specified network ports at runtime. \n",
    "\n",
    "ENV - This sets the environment variable and works as key-value. \n",
    "\n",
    "ADD - Copies new files, directories or remote URLs from <src> and adds to the filesystem of the image\n",
    "\n",
    "COPY - ADD and COPY have similarities and need to be taken into context what is being done. \n",
    "\n",
    "ENTRYPOINT - Allows you to configure a container that will run as an executable \n",
    "\n",
    "VOLUME - The volume creates a mount point with the specified name and makes it as externally mounted volumes \n",
    "\n",
    "USER - This instruction sets the user name (UID) and user group (GID) to use when running the image for RUN, CMD, ENTRYPOINT\n",
    "\n",
    "WORKDIR - Instruction sets the working directory \n",
    "\n",
    "ARG - Defines a variable that users can pass at build-time to the builder with the docker build command\n",
    "\n",
    "ONBUILD - Adds a trigger instruction to be executed at a later time, when the image is used as the base for another build. \n",
    "\n",
    "STOPSIGNAL - Sets the system call signal that will be sent to the container to exit. \n",
    "\n",
    "HEALTHCHECK - How to test a container to check that it is still working. \n",
    "\n",
    "SHELL - Allows the default shell used to be overwritten. \n"
   ]
  },
  {
   "cell_type": "markdown",
   "metadata": {},
   "source": [
    "FROM <image> \n",
    "ARG <variable_name=value>\n",
    "RUN <command>\n",
    "CMD <command> \n",
    "LABEL <metadata, key/value pair>\n",
    "MAINTAINER <name of maintainer>\n",
    "EXPOSE  "
   ]
  },
  {
   "cell_type": "markdown",
   "metadata": {},
   "source": [
    "#### Give examples on how to create an efficient image via a Dockerfile"
   ]
  },
  {
   "cell_type": "markdown",
   "metadata": {},
   "source": [
    "- Create ephemeral containers \n",
    "- If you specify the -f flag, regardless of where the file lives, all recursive contents of files are sent to docker daemon\n",
    "- Use .dockerignore \n",
    "- Use multi-stage builds, reduce size of final image without struggling to reduce the number of layers and files \n",
    "- Don't install unnecessary packages \n",
    "- Decouple applications \n",
    "- Minimise the number of layers, you can do multi-stage builds and only copy the artifacts you need into final image. \n",
    "- Sort multi-line arguements, help avoid duplication of packages and make the list easier to update \n",
    "- Leverage build cache\n",
    "- Alpine image is recommended as it is tightly controlled and small in size \n",
    "- Use labels to your image to help organise images by project, record licensing infomrmation, aid automation. \n",
    "- Split long or complex \n",
    "- Avoid Apt-Get \n",
    "- CMD should be used to run software contained by your image \n",
    "- EXPOSE and you should use the common, traditional ports\n",
    "- COPY is preferred than ADD, it is more transparent. \n",
    "- ENTRYPOINT is used to set the image's main command i.e. s3cmd then CMD for --help \n",
    "- VOLUME should be used for any mutable and/or user-serviceable parts of your image. \n",
    "- USER to change to a non-root user \n",
    "- WORKDIR use absolute paths\n",
    "- ONBUILD, instruction parent dockerfile gives the child dockerfile \n",
    "\n",
    "- Example - https://github.com/docker-library/golang/blob/ad773d11d0bdf21d1f4bc4adf7ea580e71f49d10/1.12-rc/stretch/Dockerfile "
   ]
  },
  {
   "cell_type": "markdown",
   "metadata": {},
   "source": [
    "#### Use CLI commands such as list, delete, prune, rmi, etc to manage images"
   ]
  },
  {
   "cell_type": "code",
   "execution_count": 13,
   "metadata": {},
   "outputs": [
    {
     "name": "stdout",
     "output_type": "stream",
     "text": [
      "Sending build context to Docker daemon  9.821MB\r",
      "\r\n",
      "Step 1/1 : FROM centos\n",
      " ---> 1e1148e4cc2c\n",
      "Successfully built 1e1148e4cc2c\n",
      "Successfully tagged centos:latest\n"
     ]
    }
   ],
   "source": [
    "%%bash \n",
    "docker build -t centos . "
   ]
  },
  {
   "cell_type": "code",
   "execution_count": 16,
   "metadata": {},
   "outputs": [
    {
     "name": "stdout",
     "output_type": "stream",
     "text": [
      "REPOSITORY          TAG                 IMAGE ID            CREATED             SIZE\n",
      "centos              latest              1e1148e4cc2c        6 weeks ago         202MB\n"
     ]
    }
   ],
   "source": [
    "%%bash \n",
    "\n",
    "docker images"
   ]
  },
  {
   "cell_type": "markdown",
   "metadata": {},
   "source": [
    "#### Inspect images and report specific attributes using filter and format"
   ]
  },
  {
   "cell_type": "code",
   "execution_count": 19,
   "metadata": {},
   "outputs": [
    {
     "name": "stdout",
     "output_type": "stream",
     "text": [
      "[\n",
      "    {\n",
      "        \"Id\": \"sha256:1e1148e4cc2c148c6890a18e3b2d2dde41a6745ceb4e5fe94a923d811bf82ddb\",\n",
      "        \"RepoTags\": [\n",
      "            \"centos:latest\"\n",
      "        ],\n",
      "        \"RepoDigests\": [\n",
      "            \"centos@sha256:184e5f35598e333bfa7de10d8fb1cebb5ee4df5bc0f970bf2b1e7c7345136426\"\n",
      "        ],\n",
      "        \"Parent\": \"\",\n",
      "        \"Comment\": \"\",\n",
      "        \"Created\": \"2018-12-06T00:21:07.135655444Z\",\n",
      "        \"Container\": \"1fdbb0fcc184eb795364f7aa5fdc00299d0a2b90d8e26b4696217c22da7f983f\",\n",
      "        \"ContainerConfig\": {\n",
      "            \"Hostname\": \"1fdbb0fcc184\",\n",
      "            \"Domainname\": \"\",\n",
      "            \"User\": \"\",\n",
      "            \"AttachStdin\": false,\n",
      "            \"AttachStdout\": false,\n",
      "            \"AttachStderr\": false,\n",
      "            \"Tty\": false,\n",
      "            \"OpenStdin\": false,\n",
      "            \"StdinOnce\": false,\n",
      "            \"Env\": [\n",
      "                \"PATH=/usr/local/sbin:/usr/local/bin:/usr/sbin:/usr/bin:/sbin:/bin\"\n",
      "            ],\n",
      "            \"Cmd\": [\n",
      "                \"/bin/sh\",\n",
      "                \"-c\",\n",
      "                \"#(nop) \",\n",
      "                \"CMD [\\\"/bin/bash\\\"]\"\n",
      "            ],\n",
      "            \"ArgsEscaped\": true,\n",
      "            \"Image\": \"sha256:b3a68d99a4a4195c6c97c2345b83cb2d6cfd1661247816ac403cf0b584437ad7\",\n",
      "            \"Volumes\": null,\n",
      "            \"WorkingDir\": \"\",\n",
      "            \"Entrypoint\": null,\n",
      "            \"OnBuild\": null,\n",
      "            \"Labels\": {\n",
      "                \"org.label-schema.build-date\": \"20181205\",\n",
      "                \"org.label-schema.license\": \"GPLv2\",\n",
      "                \"org.label-schema.name\": \"CentOS Base Image\",\n",
      "                \"org.label-schema.schema-version\": \"1.0\",\n",
      "                \"org.label-schema.vendor\": \"CentOS\"\n",
      "            }\n",
      "        },\n",
      "        \"DockerVersion\": \"17.06.2-ce\",\n",
      "        \"Author\": \"\",\n",
      "        \"Config\": {\n",
      "            \"Hostname\": \"\",\n",
      "            \"Domainname\": \"\",\n",
      "            \"User\": \"\",\n",
      "            \"AttachStdin\": false,\n",
      "            \"AttachStdout\": false,\n",
      "            \"AttachStderr\": false,\n",
      "            \"Tty\": false,\n",
      "            \"OpenStdin\": false,\n",
      "            \"StdinOnce\": false,\n",
      "            \"Env\": [\n",
      "                \"PATH=/usr/local/sbin:/usr/local/bin:/usr/sbin:/usr/bin:/sbin:/bin\"\n",
      "            ],\n",
      "            \"Cmd\": [\n",
      "                \"/bin/bash\"\n",
      "            ],\n",
      "            \"ArgsEscaped\": true,\n",
      "            \"Image\": \"sha256:b3a68d99a4a4195c6c97c2345b83cb2d6cfd1661247816ac403cf0b584437ad7\",\n",
      "            \"Volumes\": null,\n",
      "            \"WorkingDir\": \"\",\n",
      "            \"Entrypoint\": null,\n",
      "            \"OnBuild\": null,\n",
      "            \"Labels\": {\n",
      "                \"org.label-schema.build-date\": \"20181205\",\n",
      "                \"org.label-schema.license\": \"GPLv2\",\n",
      "                \"org.label-schema.name\": \"CentOS Base Image\",\n",
      "                \"org.label-schema.schema-version\": \"1.0\",\n",
      "                \"org.label-schema.vendor\": \"CentOS\"\n",
      "            }\n",
      "        },\n",
      "        \"Architecture\": \"amd64\",\n",
      "        \"Os\": \"linux\",\n",
      "        \"Size\": 201779604,\n",
      "        \"VirtualSize\": 201779604,\n",
      "        \"GraphDriver\": {\n",
      "            \"Data\": {\n",
      "                \"MergedDir\": \"/var/lib/docker/overlay2/96487ff6f8697a8d0e05887be411d9f12b88ffb59689db4a1b98b02ff370eba5/merged\",\n",
      "                \"UpperDir\": \"/var/lib/docker/overlay2/96487ff6f8697a8d0e05887be411d9f12b88ffb59689db4a1b98b02ff370eba5/diff\",\n",
      "                \"WorkDir\": \"/var/lib/docker/overlay2/96487ff6f8697a8d0e05887be411d9f12b88ffb59689db4a1b98b02ff370eba5/work\"\n",
      "            },\n",
      "            \"Name\": \"overlay2\"\n",
      "        },\n",
      "        \"RootFS\": {\n",
      "            \"Type\": \"layers\",\n",
      "            \"Layers\": [\n",
      "                \"sha256:071d8bd765171080d01682844524be57ac9883e53079b6ac66707e192ea25956\"\n",
      "            ]\n",
      "        },\n",
      "        \"Metadata\": {\n",
      "            \"LastTagTime\": \"2019-01-19T11:24:45.253638235Z\"\n",
      "        }\n",
      "    }\n",
      "]\n"
     ]
    }
   ],
   "source": [
    "%%bash\n",
    "docker inspect centos "
   ]
  },
  {
   "cell_type": "code",
   "execution_count": 24,
   "metadata": {},
   "outputs": [
    {
     "name": "stdout",
     "output_type": "stream",
     "text": [
      "amd64\n"
     ]
    }
   ],
   "source": [
    "%%bash\n",
    "docker inspect centos --format \"{{.Architecture}}\""
   ]
  },
  {
   "cell_type": "code",
   "execution_count": 25,
   "metadata": {},
   "outputs": [
    {
     "name": "stdout",
     "output_type": "stream",
     "text": [
      "{\n",
      "    \"ArgsEscaped\": true,\n",
      "    \"AttachStderr\": false,\n",
      "    \"AttachStdin\": false,\n",
      "    \"AttachStdout\": false,\n",
      "    \"Cmd\": [\n",
      "        \"/bin/bash\"\n",
      "    ],\n",
      "    \"Domainname\": \"\",\n",
      "    \"Entrypoint\": null,\n",
      "    \"Env\": [\n",
      "        \"PATH=/usr/local/sbin:/usr/local/bin:/usr/sbin:/usr/bin:/sbin:/bin\"\n",
      "    ],\n",
      "    \"Hostname\": \"\",\n",
      "    \"Image\": \"sha256:b3a68d99a4a4195c6c97c2345b83cb2d6cfd1661247816ac403cf0b584437ad7\",\n",
      "    \"Labels\": {\n",
      "        \"org.label-schema.build-date\": \"20181205\",\n",
      "        \"org.label-schema.license\": \"GPLv2\",\n",
      "        \"org.label-schema.name\": \"CentOS Base Image\",\n",
      "        \"org.label-schema.schema-version\": \"1.0\",\n",
      "        \"org.label-schema.vendor\": \"CentOS\"\n",
      "    },\n",
      "    \"OnBuild\": null,\n",
      "    \"OpenStdin\": false,\n",
      "    \"StdinOnce\": false,\n",
      "    \"Tty\": false,\n",
      "    \"User\": \"\",\n",
      "    \"Volumes\": null,\n",
      "    \"WorkingDir\": \"\"\n",
      "}\n"
     ]
    }
   ],
   "source": [
    "%%bash\n",
    "docker inspect centos --format=\"{{json .Config}}\" | python -m json.tool"
   ]
  },
  {
   "cell_type": "markdown",
   "metadata": {},
   "source": [
    "#### Demonstrate tagging an image"
   ]
  },
  {
   "cell_type": "code",
   "execution_count": 4,
   "metadata": {},
   "outputs": [],
   "source": [
    "%%bash \n",
    "docker tag ef1d httpd:adnan"
   ]
  },
  {
   "cell_type": "code",
   "execution_count": 7,
   "metadata": {},
   "outputs": [
    {
     "name": "stdout",
     "output_type": "stream",
     "text": [
      "httpd               adnan               ef1dc54703e2        3 weeks ago         132MB\n"
     ]
    }
   ],
   "source": [
    "%%bash \n",
    "docker images | grep ef1d"
   ]
  },
  {
   "cell_type": "markdown",
   "metadata": {},
   "source": [
    "#### Utilize a registry to store an image"
   ]
  },
  {
   "cell_type": "code",
   "execution_count": 8,
   "metadata": {},
   "outputs": [],
   "source": [
    "%%bash\n",
    "docker tag centos localregistry:5000/centos "
   ]
  },
  {
   "cell_type": "markdown",
   "metadata": {},
   "source": [
    "#### Display layers of a Docker image"
   ]
  },
  {
   "cell_type": "code",
   "execution_count": 3,
   "metadata": {},
   "outputs": [
    {
     "name": "stdout",
     "output_type": "stream",
     "text": [
      "IMAGE               CREATED             CREATED BY                                      SIZE                COMMENT\n",
      "1e1148e4cc2c        6 weeks ago         /bin/sh -c #(nop)  CMD [\"/bin/bash\"]            0B                  \n",
      "<missing>           6 weeks ago         /bin/sh -c #(nop)  LABEL org.label-schema.sc…   0B                  \n",
      "<missing>           6 weeks ago         /bin/sh -c #(nop) ADD file:6f877549795f4798a…   202MB               \n"
     ]
    }
   ],
   "source": [
    "%%bash\n",
    "docker history centos"
   ]
  },
  {
   "cell_type": "markdown",
   "metadata": {},
   "source": [
    "#### Apply a file to create a Docker image"
   ]
  },
  {
   "cell_type": "markdown",
   "metadata": {},
   "source": [
    "Applying the dockerfile to create a docker image "
   ]
  },
  {
   "cell_type": "code",
   "execution_count": 23,
   "metadata": {},
   "outputs": [
    {
     "name": "stdout",
     "output_type": "stream",
     "text": [
      "Sending build context to Docker daemon  209.7MB\r",
      "\r\n",
      "Step 1/3 : FROM python:3.4-alpine\n",
      "3.4-alpine: Pulling from library/python\n",
      "cd784148e348: Already exists\n",
      "a5ca736b15eb: Already exists\n",
      "920c43fa197c: Already exists\n",
      "50047dbf0d94: Already exists\n",
      "a10aaf904d5e: Pulling fs layer\n",
      "a10aaf904d5e: Verifying Checksum\n",
      "a10aaf904d5e: Download complete\n",
      "a10aaf904d5e: Pull complete\n",
      "Digest: sha256:1246fd45a53ad162cb23268b631212406661402fcc025725e042a2e6b5905f42\n",
      "Status: Downloaded newer image for python:3.4-alpine\n",
      " ---> 7034971a4a59\n",
      "Step 2/3 : ADD . app.py\n",
      " ---> 5f09289a6b62\n",
      "Step 3/3 : CMD [\"python\", \"app.py\"]\n",
      " ---> Running in 318812889f75\n",
      "Removing intermediate container 318812889f75\n",
      " ---> 3c7f9ea8ee19\n",
      "Successfully built 3c7f9ea8ee19\n",
      "Successfully tagged testimage:latest\n"
     ]
    }
   ],
   "source": [
    "%%bash\n",
    "docker build -t testimage . "
   ]
  },
  {
   "cell_type": "markdown",
   "metadata": {},
   "source": [
    "#### Modify an image to a single layer"
   ]
  },
  {
   "cell_type": "code",
   "execution_count": 13,
   "metadata": {},
   "outputs": [
    {
     "name": "stdout",
     "output_type": "stream",
     "text": [
      "fa5f79b4bf52        centos              \"--network dbe\"          2 days ago          Created                                              nostalgic_murdock\n"
     ]
    }
   ],
   "source": [
    "%%bash \n",
    "docker ps -a | grep nostalgic"
   ]
  },
  {
   "cell_type": "code",
   "execution_count": 15,
   "metadata": {},
   "outputs": [],
   "source": [
    "%%bash \n",
    "docker export nostalgic_murdock >> adnanbuild.tar"
   ]
  },
  {
   "cell_type": "code",
   "execution_count": 16,
   "metadata": {},
   "outputs": [
    {
     "name": "stdout",
     "output_type": "stream",
     "text": [
      "sha256:fb3a9dd75fb037db37521f17a4be4e867ea7cde8ededee3b65662ee96a48e785\n"
     ]
    }
   ],
   "source": [
    "%%bash \n",
    "docker import adnanbuild.tar adnanbuild:import"
   ]
  },
  {
   "cell_type": "code",
   "execution_count": 17,
   "metadata": {},
   "outputs": [
    {
     "name": "stdout",
     "output_type": "stream",
     "text": [
      "adnanbuild                  import              fb3a9dd75fb0        20 seconds ago      202MB\n"
     ]
    }
   ],
   "source": [
    "%%bash \n",
    "docker images | grep adnanbuild"
   ]
  },
  {
   "cell_type": "code",
   "execution_count": 18,
   "metadata": {},
   "outputs": [
    {
     "name": "stdout",
     "output_type": "stream",
     "text": [
      "IMAGE               CREATED             CREATED BY          SIZE                COMMENT\n",
      "fb3a9dd75fb0        38 seconds ago                          202MB               Imported from -\n"
     ]
    }
   ],
   "source": [
    "%%bash\n",
    "docker image history adnanbuild:import"
   ]
  },
  {
   "cell_type": "markdown",
   "metadata": {},
   "source": [
    "#### Describe how image layers work"
   ]
  },
  {
   "cell_type": "code",
   "execution_count": 22,
   "metadata": {},
   "outputs": [
    {
     "name": "stdout",
     "output_type": "stream",
     "text": [
      "IMAGE               CREATED             CREATED BY                                      SIZE                COMMENT\n",
      "116995fd6624        7 days ago          /bin/sh -c #(nop)  CMD [\"/etc/docker/registr…   0B                  \n",
      "<missing>           7 days ago          /bin/sh -c #(nop)  ENTRYPOINT [\"/entrypoint.…   0B                  \n",
      "<missing>           7 days ago          /bin/sh -c #(nop) COPY file:507caa54f88c1f38…   155B                \n",
      "<missing>           7 days ago          /bin/sh -c #(nop)  EXPOSE 5000                  0B                  \n",
      "<missing>           7 days ago          /bin/sh -c #(nop)  VOLUME [/var/lib/registry]   0B                  \n",
      "<missing>           7 days ago          /bin/sh -c #(nop) COPY file:4544cc1555469403…   295B                \n",
      "<missing>           7 days ago          /bin/sh -c #(nop) COPY file:21256ff7df5369f7…   20.1MB              \n",
      "<missing>           3 weeks ago         /bin/sh -c set -ex     && apk add --no-cache…   1.29MB              \n",
      "<missing>           5 weeks ago         /bin/sh -c #(nop)  CMD [\"/bin/sh\"]              0B                  \n",
      "<missing>           5 weeks ago         /bin/sh -c #(nop) ADD file:2ff00caea4e83dfad…   4.41MB              \n"
     ]
    }
   ],
   "source": [
    "%%bash \n",
    "docker image history registry"
   ]
  },
  {
   "cell_type": "markdown",
   "metadata": {},
   "source": [
    "Where it says missing, its not really missing, however the history of the image ID is not part of the build. It is not carried forward when you install an image from a remote repository. \n",
    "\n",
    "Docker users a union file system, which allows overlaying to form a single filesystem. \n",
    "\n",
    "You can also see the size of each of the layers"
   ]
  },
  {
   "cell_type": "markdown",
   "metadata": {},
   "source": [
    "#### Deploy and configure a  registry"
   ]
  },
  {
   "cell_type": "markdown",
   "metadata": {},
   "source": [
    "Prepare for secure registry"
   ]
  },
  {
   "cell_type": "code",
   "execution_count": 28,
   "metadata": {},
   "outputs": [
    {
     "name": "stderr",
     "output_type": "stream",
     "text": [
      "Generating a 4096 bit RSA private key\n",
      "......................................................................................................................++\n",
      "............................................++\n",
      "writing new private key to 'certs/dockerrepo.key'\n",
      "-----\n"
     ]
    }
   ],
   "source": [
    "%%bash\n",
    "mkdir certs\n",
    "mkdir auth\n",
    "openssl req -newkey rsa:4096 -nodes -sha256 -keyout certs/dockerrepo.key -x509 -days 365 -out certs/dockerrepo.crt -subj /CN=myregistrydomain.com"
   ]
  },
  {
   "cell_type": "code",
   "execution_count": 31,
   "metadata": {},
   "outputs": [],
   "source": [
    "%%bash \n",
    "sudo mkdir -p /etc/docker/certs.d/myregistrydomain.com:5000 "
   ]
  },
  {
   "cell_type": "code",
   "execution_count": 35,
   "metadata": {},
   "outputs": [],
   "source": [
    "%%bash \n",
    "cd /etc/docker/certs.d/myregistrydomain.com\\:5000/\n",
    "sudo cp /home/centos/DCA/certs/dockerrepo.crt ca.crt "
   ]
  },
  {
   "cell_type": "code",
   "execution_count": 37,
   "metadata": {},
   "outputs": [
    {
     "name": "stdout",
     "output_type": "stream",
     "text": [
      "2: Pulling from library/registry\n",
      "Digest: sha256:a54bc9be148764891c44676ce8c44f1e53514c43b1bfbab87b896f4b9f0b5d99\n",
      "Status: Image is up to date for registry:2\n"
     ]
    }
   ],
   "source": [
    "%%bash \n",
    "docker pull registry:2"
   ]
  },
  {
   "cell_type": "code",
   "execution_count": 38,
   "metadata": {},
   "outputs": [],
   "source": [
    "%%bash \n",
    "docker run --entrypoint htpasswd registry:2 -Bbn test password > auth/htpasswd "
   ]
  },
  {
   "cell_type": "code",
   "execution_count": 39,
   "metadata": {},
   "outputs": [
    {
     "name": "stdout",
     "output_type": "stream",
     "text": [
      "test:$2y$05$g8RcUZ/yR0LVlzSxAbGBMe57tYQG2wpVqhm8OvRGdX0v2FkeK9H8a\n",
      "\n"
     ]
    }
   ],
   "source": [
    "%%bash \n",
    "cat auth/htpasswd"
   ]
  },
  {
   "cell_type": "markdown",
   "metadata": {},
   "source": [
    "Launch Registry"
   ]
  },
  {
   "cell_type": "code",
   "execution_count": 69,
   "metadata": {},
   "outputs": [
    {
     "name": "stdout",
     "output_type": "stream",
     "text": [
      "219895035b09189f0e1f9d055feafd9bf0bc20f509928f2ebc531e10ce895254\n"
     ]
    }
   ],
   "source": [
    "%%bash \n",
    "docker run -d -p 5000:5000 -v `pwd`/certs:/certs -e REGISTRY_HTTP_TLS_CERTIFICATE=/certs/dockerrepo.crt -e REGISTRY_HTTP_TLS_KEY=/certs/dockerrepo.key -v `pwd`/auth:/auth -e REGISTRY_AUTH=htpasswd -e REGISTRY_AUTH_HTPASSWD_REALM=\"Registry Realm\" -e REGISTRY_AUTH_HTPASSWD_PATH=/auth/htpasswd registry:2"
   ]
  },
  {
   "cell_type": "code",
   "execution_count": 48,
   "metadata": {},
   "outputs": [
    {
     "name": "stdout",
     "output_type": "stream",
     "text": [
      "latest: Pulling from library/busybox\n",
      "57c14dd66db0: Pulling fs layer\n",
      "57c14dd66db0: Download complete\n",
      "57c14dd66db0: Pull complete\n",
      "Digest: sha256:7964ad52e396a6e045c39b5a44438424ac52e12e4d5a25d94895f2058cb863a0\n",
      "Status: Downloaded newer image for busybox:latest\n"
     ]
    }
   ],
   "source": [
    "%%bash\n",
    "docker pull busybox:latest"
   ]
  },
  {
   "cell_type": "markdown",
   "metadata": {},
   "source": [
    "Tag image "
   ]
  },
  {
   "cell_type": "code",
   "execution_count": 70,
   "metadata": {},
   "outputs": [],
   "source": [
    "%%bash \n",
    "docker tag busybox myregistrydomain.com:5000/my-busybox"
   ]
  },
  {
   "cell_type": "markdown",
   "metadata": {},
   "source": [
    "#### Log into a registry"
   ]
  },
  {
   "cell_type": "code",
   "execution_count": 47,
   "metadata": {},
   "outputs": [
    {
     "name": "stdout",
     "output_type": "stream",
     "text": [
      "Authenticating with existing credentials...\n",
      "Login Succeeded\n"
     ]
    },
    {
     "name": "stderr",
     "output_type": "stream",
     "text": [
      "WARNING! Your password will be stored unencrypted in /home/centos/.docker/config.json.\n",
      "Configure a credential helper to remove this warning. See\n",
      "https://docs.docker.com/engine/reference/commandline/login/#credentials-store\n",
      "\n"
     ]
    }
   ],
   "source": [
    "%%bash\n",
    "docker login myregistrydomain.com:5000/my-busybox "
   ]
  },
  {
   "cell_type": "markdown",
   "metadata": {},
   "source": [
    "#### Push an image to a registry"
   ]
  },
  {
   "cell_type": "code",
   "execution_count": 71,
   "metadata": {},
   "outputs": [
    {
     "name": "stdout",
     "output_type": "stream",
     "text": [
      "The push refers to repository [myregistrydomain.com:5000/my-busybox]\n",
      "683f499823be: Preparing\n",
      "683f499823be: Pushed\n",
      "latest: digest: sha256:bbb143159af9eabdf45511fd5aab4fd2475d4c0e7fd4a5e154b98e838488e510 size: 527\n"
     ]
    }
   ],
   "source": [
    "%%bash \n",
    "docker push myregistrydomain.com:5000/my-busybox"
   ]
  },
  {
   "cell_type": "markdown",
   "metadata": {},
   "source": [
    "#### Utilize search in a registry"
   ]
  },
  {
   "cell_type": "code",
   "execution_count": 72,
   "metadata": {},
   "outputs": [
    {
     "name": "stdout",
     "output_type": "stream",
     "text": [
      "{\"repositories\":[\"my-busybox\"]}\n"
     ]
    },
    {
     "name": "stderr",
     "output_type": "stream",
     "text": [
      "  % Total    % Received % Xferd  Average Speed   Time    Time     Time  Current\n",
      "                                 Dload  Upload   Total   Spent    Left  Speed\n",
      "\r",
      "  0     0    0     0    0     0      0      0 --:--:-- --:--:-- --:--:--     0\r",
      "100    32  100    32    0     0    223      0 --:--:-- --:--:-- --:--:--   225\n"
     ]
    }
   ],
   "source": [
    "%%bash \n",
    "curl --insecure -u \"test:password\" https://myregistrydomain.com:5000/v2/_catalog"
   ]
  },
  {
   "cell_type": "markdown",
   "metadata": {},
   "source": [
    "#### Sign an image in a registry"
   ]
  },
  {
   "cell_type": "code",
   "execution_count": null,
   "metadata": {},
   "outputs": [],
   "source": []
  },
  {
   "cell_type": "markdown",
   "metadata": {},
   "source": [
    "#### Pull an image from a registry"
   ]
  },
  {
   "cell_type": "code",
   "execution_count": 55,
   "metadata": {},
   "outputs": [
    {
     "name": "stdout",
     "output_type": "stream",
     "text": [
      "REPOSITORY                  TAG                 IMAGE ID            CREATED             SIZE\n",
      "testimage                   latest              3c7f9ea8ee19        38 minutes ago      276MB\n",
      "adnanbuild                  import              fb3a9dd75fb0        45 minutes ago      202MB\n",
      "python                      3.4-alpine          7034971a4a59        6 hours ago         65.9MB\n",
      "httpd                       <none>              dc917399d59d        4 days ago          132MB\n",
      "centos                      2                   63831d5f413c        5 days ago          306MB\n",
      "registry                    2                   116995fd6624        7 days ago          25.8MB\n",
      "registry                    latest              116995fd6624        7 days ago          25.8MB\n",
      "httpd                       adnan               ef1dc54703e2        4 weeks ago         132MB\n",
      "redis                       <none>              5d2989ac9711        4 weeks ago         95MB\n",
      "redis                       <none>              b42dc832c855        5 weeks ago         40.9MB\n",
      "localregistry:5000/centos   latest              1e1148e4cc2c        7 weeks ago         202MB\n",
      "centos                      latest              1e1148e4cc2c        7 weeks ago         202MB\n",
      "localhost:5000/centos       latest              1e1148e4cc2c        7 weeks ago         202MB\n"
     ]
    }
   ],
   "source": [
    "%%bash \n",
    "docker images"
   ]
  },
  {
   "cell_type": "code",
   "execution_count": 57,
   "metadata": {},
   "outputs": [
    {
     "name": "stdout",
     "output_type": "stream",
     "text": [
      "Using default tag: latest\n",
      "latest: Pulling from my-busybox\n",
      "57c14dd66db0: Pulling fs layer\n",
      "57c14dd66db0: Verifying Checksum\n",
      "57c14dd66db0: Download complete\n",
      "57c14dd66db0: Pull complete\n",
      "Digest: sha256:bbb143159af9eabdf45511fd5aab4fd2475d4c0e7fd4a5e154b98e838488e510\n",
      "Status: Downloaded newer image for myregistrydomain.com:5000/my-busybox:latest\n"
     ]
    }
   ],
   "source": [
    "%%bash \n",
    "docker pull myregistrydomain.com:5000/my-busybox"
   ]
  },
  {
   "cell_type": "markdown",
   "metadata": {},
   "source": [
    "#### Describe how image deletion works"
   ]
  },
  {
   "cell_type": "code",
   "execution_count": null,
   "metadata": {},
   "outputs": [],
   "source": []
  },
  {
   "cell_type": "markdown",
   "metadata": {},
   "source": [
    "#### Delete an image from a registry"
   ]
  },
  {
   "cell_type": "code",
   "execution_count": null,
   "metadata": {},
   "outputs": [],
   "source": []
  }
 ],
 "metadata": {
  "kernelspec": {
   "display_name": "Python 3",
   "language": "python",
   "name": "python3"
  },
  "language_info": {
   "codemirror_mode": {
    "name": "ipython",
    "version": 2
   },
   "file_extension": ".py",
   "mimetype": "text/x-python",
   "name": "python",
   "nbconvert_exporter": "python",
   "pygments_lexer": "ipython2",
   "version": "2.7.5"
  }
 },
 "nbformat": 4,
 "nbformat_minor": 2
}
