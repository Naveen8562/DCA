{
 "cells": [
  {
   "cell_type": "markdown",
   "metadata": {},
   "source": [
    "# Networking"
   ]
  },
  {
   "cell_type": "markdown",
   "metadata": {},
   "source": [
    "#### Create a Docker bridge network for a developer to use for their containers"
   ]
  },
  {
   "cell_type": "markdown",
   "metadata": {},
   "source": [
    "User-defined bridge networks are best when you need multiple containers to communicate on the same Docker host.\n",
    "\n",
    "Host networks are best when the network stack should not be isolated from the Docker host, but you want other aspects of the container to be isolated.\n",
    "\n",
    "Overlay networks are best when you need containers running on different Docker hosts to communicate, or when multiple applications work together using swarm services.\n",
    "\n",
    "Macvlan networks are best when you are migrating from a VM setup or need your containers to look like physical hosts on your network, each with a unique MAC address.\n",
    "\n",
    "Third-party network plugins allow you to integrate Docker with specialized network stacks.\n",
    "\n"
   ]
  },
  {
   "cell_type": "code",
   "execution_count": null,
   "metadata": {},
   "outputs": [],
   "source": [
    "%%bash \n",
    "docker network create adnan-network\n",
    "docker network ls "
   ]
  },
  {
   "cell_type": "markdown",
   "metadata": {},
   "source": [
    "####  Troubleshoot container and engine logs to understand a connectivity issue between containers"
   ]
  },
  {
   "cell_type": "code",
   "execution_count": 1,
   "metadata": {},
   "outputs": [
    {
     "name": "stderr",
     "output_type": "stream",
     "text": [
      "bash: line 1: stop: command not found\n",
      "chmod /var/lib/docker: operation not permitted\n"
     ]
    }
   ],
   "source": [
    "%%bash \n",
    "stop docker \n",
    "dockerd "
   ]
  },
  {
   "cell_type": "markdown",
   "metadata": {},
   "source": [
    "####  Publish a port so that an application is accessible externally"
   ]
  },
  {
   "cell_type": "code",
   "execution_count": null,
   "metadata": {},
   "outputs": [],
   "source": [
    "%%bash \n",
    "docker run -d -p 81:80 httpd "
   ]
  },
  {
   "cell_type": "markdown",
   "metadata": {},
   "source": [
    "#### Identify which IP and port a container is externally accessible on"
   ]
  },
  {
   "cell_type": "code",
   "execution_count": null,
   "metadata": {},
   "outputs": [],
   "source": [
    "%%bash \n",
    "docker inspect 09c --format=\"{{.NetworkSettings.Ports}}\""
   ]
  },
  {
   "cell_type": "markdown",
   "metadata": {},
   "source": [
    "#### Describe the different types and use cases for the built-in network drivers"
   ]
  },
  {
   "cell_type": "markdown",
   "metadata": {},
   "source": [
    "\n",
    "bridge - default network driver. \n",
    "    This is usually used when your apps run in standalone containers that need to communicate. \n",
    "    Best when you need multiple containers to speak on the same host \n",
    "  \n",
    " \n",
    "host - for standalone container, remove network isolation between container and docker host\n",
    "    best when you dont want the network stack isolated from the container \n",
    "    \n",
    "overlay - connect multiple daemons together and enable swarm services to communicate with each other. \n",
    "    This means if you have multiple docker hosts, you run overlay network with your swarm, they can all communicate\n",
    "    Use this for multiple applications communicating with each other\n",
    "\n",
    "macvlan - ability to assign mac address to the container and make it appear like a physical device on the network \n",
    "    best when migrating from a VM setup or need them to look like physical machines?\n",
    "\n",
    "none - networking disabled for that container. \n",
    "\n",
    "\n"
   ]
  },
  {
   "cell_type": "markdown",
   "metadata": {},
   "source": [
    "#### Understand the Container Network Model and how it interfaces with the Docker engine and network and IPAM drivers"
   ]
  },
  {
   "cell_type": "markdown",
   "metadata": {},
   "source": [
    "![image.png](CNM.PNG)"
   ]
  },
  {
   "cell_type": "markdown",
   "metadata": {},
   "source": [
    "##### CNM Constructs \n",
    "\n",
    "- Sandbox - containers configuration of a containers network stack. Management of the containers interfaces, routing table, and DNS settings\n",
    "            \n",
    "- Endpoint - joins a sandbox to a network and abstracts the connectoin from the applicatoin \n",
    "\n",
    "- Network - CNM is not same as OSI model. Network could be linux bridge, VLAN etc.. \n",
    "\n",
    "##### CNM Driver Interfaces \n",
    "\n",
    "- Network Drivers - This provides actual implementation that makes networks work. \n",
    "- Remote Network Drivers - created by communicate and other vendors. \n",
    "- IPAM Drivers - Managing addresses across multiple hosts on seperate physical networks while providing routing to underlying swarm networks externall is the 'IPAM problem' for Docker. Depending on the network driver chose, IPAM is handled at different layers in the stack. On single host, IPAM is not challenging and routing is genereally handled manually or through port exposure and each network is specific to the host system. Network drivers enable IPAM through DHCP drivers or plugin drivers so that complex implementations support what would normally be operlapping addresses. \n",
    "   "
   ]
  },
  {
   "cell_type": "markdown",
   "metadata": {},
   "source": [
    "#### Configure Docker to use external DNS"
   ]
  },
  {
   "cell_type": "code",
   "execution_count": null,
   "metadata": {},
   "outputs": [],
   "source": []
  },
  {
   "cell_type": "markdown",
   "metadata": {},
   "source": [
    "#### Use Docker to load balance HTTP/HTTPs traffic to an application (Configure L7 load balancing with Docker EE)"
   ]
  },
  {
   "cell_type": "code",
   "execution_count": null,
   "metadata": {},
   "outputs": [],
   "source": []
  },
  {
   "cell_type": "markdown",
   "metadata": {},
   "source": [
    "#### Understand and describe the types of traffic that flow between the Docker engine, registry, and UCP controllers"
   ]
  },
  {
   "cell_type": "markdown",
   "metadata": {},
   "source": [
    "   The traffic between DTR and UCP is always encrypted to ensure security. \n",
    "    Traffic between containers is not encrypted by default. \n",
    "    DTR / UCP management traffic used Mutual TLS \n"
   ]
  },
  {
   "cell_type": "markdown",
   "metadata": {},
   "source": [
    "#### Deploy a service on a Docker overlay network"
   ]
  },
  {
   "cell_type": "code",
   "execution_count": null,
   "metadata": {},
   "outputs": [],
   "source": []
  },
  {
   "cell_type": "markdown",
   "metadata": {},
   "source": [
    "#### Describe the difference between \"host\" and \"ingress\" port publishing mode"
   ]
  },
  {
   "cell_type": "markdown",
   "metadata": {},
   "source": [
    "Host = if you do host mode and also set published port, you can only run one task for that service on a given swarm node. \n",
    "        You can work around by not being explicit with pushed port \n",
    " \n",
    " Ingress = available to all swarm nodes, where you may publish 8080 to 80 for example \n",
    " \n",
    "\n"
   ]
  },
  {
   "cell_type": "code",
   "execution_count": null,
   "metadata": {},
   "outputs": [],
   "source": []
  }
 ],
 "metadata": {
  "kernelspec": {
   "display_name": "Python 3",
   "language": "python",
   "name": "python3"
  },
  "language_info": {
   "codemirror_mode": {
    "name": "ipython",
    "version": 3
   },
   "file_extension": ".py",
   "mimetype": "text/x-python",
   "name": "python",
   "nbconvert_exporter": "python",
   "pygments_lexer": "ipython3",
   "version": "3.6.7"
  }
 },
 "nbformat": 4,
 "nbformat_minor": 2
}
