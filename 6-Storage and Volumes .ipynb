{
 "cells": [
  {
   "cell_type": "markdown",
   "metadata": {},
   "source": [
    "# Storage and Volumes "
   ]
  },
  {
   "cell_type": "markdown",
   "metadata": {},
   "source": [
    "State which graph driver should be used on which OS  "
   ]
  },
  {
   "cell_type": "markdown",
   "metadata": {},
   "source": [
    "overlay2 is the preferred stroage driver for all supported Linux Distributions. \n",
    "\n",
    "devicemapper is supported, but requires direct-lvm for production environments.\n",
    "\n",
    "aufs is the preferred storage driver for Docker 18.06 and older when running on Ubuntu 14.04 which has no support for overlay2 \n",
    "\n",
    "btrfs and zfs storage drives are used if they are the backing filesystem \n",
    "\n",
    "vfs storage driver is intended for testing purposes"
   ]
  },
  {
   "cell_type": "markdown",
   "metadata": {},
   "source": [
    "#### Demonstrate how to configure devicemapper"
   ]
  },
  {
   "cell_type": "code",
   "execution_count": null,
   "metadata": {},
   "outputs": [],
   "source": [
    "vi /etc/docker/daemon.json "
   ]
  },
  {
   "cell_type": "code",
   "execution_count": null,
   "metadata": {},
   "outputs": [],
   "source": [
    "{\n",
    "    \"storage-driver\": \"devicemapper\"\n",
    "}"
   ]
  },
  {
   "cell_type": "markdown",
   "metadata": {},
   "source": [
    "#### Compare object storage to block storage, and explain which one is preferable when available"
   ]
  },
  {
   "cell_type": "code",
   "execution_count": null,
   "metadata": {},
   "outputs": [],
   "source": [
    "Block Storage \n",
    "\n",
    "\n",
    "Object Storage "
   ]
  },
  {
   "cell_type": "markdown",
   "metadata": {},
   "source": [
    "#### Summarize how an application is composed of layers and where those layers reside on the filesystem"
   ]
  },
  {
   "cell_type": "markdown",
   "metadata": {},
   "source": [
    "A docker image is built up, from a series of layers, each representing a single instruction in the image's Dockerfile. Each layer except for the last, is a read-only layer. \n",
    "\n",
    "The configured Docker Storage Driver handles the details about how the image layers interact. With each container having its own writable container layer, each image can maintain a 1 to N ratio of image storage to container storage. As a result of Docker's storage strategy of 'Copy-On-Write', files are directories that exist in lower layers that are needed in higher layers, can be provided read access to them to avoid duplication. If that file needs to be modified, only then is it copied to the higher layer where the changes are stored. \n"
   ]
  },
  {
   "cell_type": "markdown",
   "metadata": {},
   "source": [
    "#### Describe how volumes are used with Docker for persistent storage"
   ]
  },
  {
   "cell_type": "code",
   "execution_count": 2,
   "metadata": {},
   "outputs": [
    {
     "name": "stdout",
     "output_type": "stream",
     "text": [
      "DRIVER              VOLUME NAME\n",
      "local               5a3b287816651190790b52ddcf2340d212398131e7b561180c95293d3692b1ce\n",
      "local               60c0aeb1f7c88f7a3889a7d4be0a50e4e941294e8a88dafb459eb95da6b185e8\n",
      "local               719fa2c8aa4ee91de6c15528cd82fe3beb05154f681874b6333a9cc88c8f0413\n",
      "local               845f1fa1f7f789d85f04d52984d56000f48cd829d66bf38ed2059134e44be210\n",
      "local               05427482d5bdd725ed49ee75f49449a8613f6d7c9be210fc0008e3ab9cdfafa3\n",
      "local               ad17604f9fbf88060c8f624f3d5fc44309c82fdf49947ca4681f655be81ff6a8\n",
      "local               datadev\n",
      "local               datavol\n",
      "my-mount\n"
     ]
    }
   ],
   "source": [
    "%%bash \n",
    "docker volume ls \n",
    "docker volume create my-mount"
   ]
  },
  {
   "cell_type": "code",
   "execution_count": 5,
   "metadata": {},
   "outputs": [
    {
     "name": "stdout",
     "output_type": "stream",
     "text": [
      "local               my-mount\n"
     ]
    }
   ],
   "source": [
    "%%bash \n",
    "docker volume ls | grep my-mount"
   ]
  },
  {
   "cell_type": "code",
   "execution_count": 6,
   "metadata": {},
   "outputs": [
    {
     "name": "stdout",
     "output_type": "stream",
     "text": [
      "[\n",
      "    {\n",
      "        \"CreatedAt\": \"2019-01-26T17:58:14Z\",\n",
      "        \"Driver\": \"local\",\n",
      "        \"Labels\": {},\n",
      "        \"Mountpoint\": \"/var/lib/docker/volumes/my-mount/_data\",\n",
      "        \"Name\": \"my-mount\",\n",
      "        \"Options\": {},\n",
      "        \"Scope\": \"local\"\n",
      "    }\n",
      "]\n"
     ]
    }
   ],
   "source": [
    "%%bash \n",
    "docker volume inspect my-mount | more"
   ]
  },
  {
   "cell_type": "code",
   "execution_count": 19,
   "metadata": {},
   "outputs": [],
   "source": [
    "%%bash \n",
    "sudo cd /var/lib/docker/volumes/my-mount/_data\n",
    "sudo su \n",
    "echo \"hello from the host\" > /var/lib/docker/volumes/my-mount/_data/hostfile.txt "
   ]
  },
  {
   "cell_type": "code",
   "execution_count": 13,
   "metadata": {},
   "outputs": [
    {
     "name": "stdout",
     "output_type": "stream",
     "text": [
      "o4zeo7bk30m5puca5f7v2ozdt\n",
      "overall progress: 0 out of 3 tasks\n",
      "1/3:  \n",
      "2/3:  \n",
      "3/3:  \n",
      "overall progress: 0 out of 3 tasks\n",
      "overall progress: 0 out of 3 tasks\n",
      "overall progress: 0 out of 3 tasks\n",
      "overall progress: 0 out of 3 tasks\n",
      "overall progress: 0 out of 3 tasks\n",
      "overall progress: 0 out of 3 tasks\n",
      "overall progress: 0 out of 3 tasks\n",
      "overall progress: 0 out of 3 tasks\n",
      "overall progress: 0 out of 3 tasks\n",
      "overall progress: 0 out of 3 tasks\n",
      "overall progress: 0 out of 3 tasks\n",
      "overall progress: 0 out of 3 tasks\n",
      "overall progress: 0 out of 3 tasks\n",
      "overall progress: 0 out of 3 tasks\n",
      "overall progress: 0 out of 3 tasks\n",
      "overall progress: 0 out of 3 tasks\n",
      "overall progress: 0 out of 3 tasks\n",
      "overall progress: 0 out of 3 tasks\n",
      "overall progress: 0 out of 3 tasks\n",
      "overall progress: 0 out of 3 tasks\n",
      "overall progress: 0 out of 3 tasks\n",
      "overall progress: 0 out of 3 tasks\n",
      "overall progress: 0 out of 3 tasks\n",
      "overall progress: 0 out of 3 tasks\n",
      "overall progress: 0 out of 3 tasks\n",
      "overall progress: 0 out of 3 tasks\n",
      "overall progress: 0 out of 3 tasks\n",
      "overall progress: 0 out of 3 tasks\n",
      "overall progress: 0 out of 3 tasks\n",
      "overall progress: 0 out of 3 tasks\n",
      "overall progress: 0 out of 3 tasks\n",
      "overall progress: 0 out of 3 tasks\n",
      "overall progress: 0 out of 3 tasks\n",
      "overall progress: 0 out of 3 tasks\n",
      "overall progress: 0 out of 3 tasks\n",
      "overall progress: 0 out of 3 tasks\n",
      "overall progress: 0 out of 3 tasks\n",
      "overall progress: 0 out of 3 tasks\n",
      "overall progress: 0 out of 3 tasks\n",
      "overall progress: 0 out of 3 tasks\n",
      "overall progress: 0 out of 3 tasks\n",
      "overall progress: 0 out of 3 tasks\n",
      "overall progress: 0 out of 3 tasks\n",
      "overall progress: 0 out of 3 tasks\n",
      "overall progress: 3 out of 3 tasks\n",
      "verify: Waiting 5 seconds to verify that tasks are stable...\n",
      "verify: Waiting 5 seconds to verify that tasks are stable...\n",
      "verify: Waiting 5 seconds to verify that tasks are stable...\n",
      "verify: Waiting 5 seconds to verify that tasks are stable...\n",
      "verify: Waiting 5 seconds to verify that tasks are stable...\n",
      "verify: Waiting 4 seconds to verify that tasks are stable...\n",
      "verify: Waiting 4 seconds to verify that tasks are stable...\n",
      "verify: Waiting 4 seconds to verify that tasks are stable...\n",
      "verify: Waiting 4 seconds to verify that tasks are stable...\n",
      "verify: Waiting 4 seconds to verify that tasks are stable...\n",
      "verify: Waiting 3 seconds to verify that tasks are stable...\n",
      "verify: Waiting 3 seconds to verify that tasks are stable...\n",
      "verify: Waiting 3 seconds to verify that tasks are stable...\n",
      "verify: Waiting 3 seconds to verify that tasks are stable...\n",
      "verify: Waiting 3 seconds to verify that tasks are stable...\n",
      "verify: Waiting 2 seconds to verify that tasks are stable...\n",
      "verify: Waiting 2 seconds to verify that tasks are stable...\n",
      "verify: Waiting 2 seconds to verify that tasks are stable...\n",
      "verify: Waiting 2 seconds to verify that tasks are stable...\n",
      "verify: Waiting 2 seconds to verify that tasks are stable...\n",
      "verify: Waiting 1 seconds to verify that tasks are stable...\n",
      "verify: Waiting 1 seconds to verify that tasks are stable...\n",
      "verify: Waiting 1 seconds to verify that tasks are stable...\n",
      "verify: Waiting 1 seconds to verify that tasks are stable...\n",
      "verify: Waiting 1 seconds to verify that tasks are stable...\n",
      "verify: Service converged\n"
     ]
    }
   ],
   "source": [
    "%%bash \n",
    "docker service create --name testweb -p 80:80 --mount source=my-mount,target=/internal-mount --detach=false --replicas 3 httpd"
   ]
  },
  {
   "cell_type": "code",
   "execution_count": 14,
   "metadata": {},
   "outputs": [
    {
     "name": "stdout",
     "output_type": "stream",
     "text": [
      "ID                  NAME                MODE                REPLICAS            IMAGE               PORTS\n",
      "o4zeo7bk30m5        testweb             replicated          3/3                 httpd:latest        *:80->80/tcp\n"
     ]
    }
   ],
   "source": [
    "%%bash \n",
    "docker service ls "
   ]
  },
  {
   "cell_type": "code",
   "execution_count": 15,
   "metadata": {},
   "outputs": [
    {
     "name": "stdout",
     "output_type": "stream",
     "text": [
      "CONTAINER ID        IMAGE               COMMAND                  CREATED             STATUS              PORTS                    NAMES\n",
      "74d30c57a3ab        httpd:latest        \"httpd-foreground\"       13 minutes ago      Up 13 minutes       80/tcp                   testweb.1.u9k6m60bxwxblq4ft92rrwhyj\n",
      "b929a0167724        httpd:latest        \"httpd-foreground\"       13 minutes ago      Up 13 minutes       80/tcp                   testweb.3.pgqo1jjzcfnknqqz1rskldgac\n",
      "4a7325baa870        httpd:latest        \"httpd-foreground\"       13 minutes ago      Up 13 minutes       80/tcp                   testweb.2.s3jwlmvr1lqe4454nrf8p46o5\n",
      "219895035b09        registry:2          \"/entrypoint.sh /etc…\"   10 hours ago        Up 10 hours         0.0.0.0:5000->5000/tcp   elegant_benz\n"
     ]
    }
   ],
   "source": [
    "%%bash \n",
    "docker ps"
   ]
  },
  {
   "cell_type": "markdown",
   "metadata": {},
   "source": [
    "#### Identify the steps you would take to clean up unused images on a filesystem, also on DTR"
   ]
  },
  {
   "cell_type": "code",
   "execution_count": null,
   "metadata": {},
   "outputs": [],
   "source": []
  },
  {
   "cell_type": "markdown",
   "metadata": {},
   "source": [
    "#### Demonstrate how storage can be used across cluster nodes"
   ]
  },
  {
   "cell_type": "code",
   "execution_count": null,
   "metadata": {},
   "outputs": [],
   "source": []
  }
 ],
 "metadata": {
  "kernelspec": {
   "display_name": "Python 2",
   "language": "python",
   "name": "python2"
  },
  "language_info": {
   "codemirror_mode": {
    "name": "ipython",
    "version": 2
   },
   "file_extension": ".py",
   "mimetype": "text/x-python",
   "name": "python",
   "nbconvert_exporter": "python",
   "pygments_lexer": "ipython2",
   "version": "2.7.5"
  }
 },
 "nbformat": 4,
 "nbformat_minor": 2
}
