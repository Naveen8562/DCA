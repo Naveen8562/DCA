{
 "cells": [
  {
   "cell_type": "markdown",
   "metadata": {},
   "source": [
    "# 1. Orchestration "
   ]
  },
  {
   "cell_type": "markdown",
   "metadata": {},
   "source": [
    "#### Complete the setup of a swarm mode cluster, with managers and worker nodes"
   ]
  },
  {
   "cell_type": "code",
   "execution_count": 6,
   "metadata": {},
   "outputs": [
    {
     "name": "stdout",
     "output_type": "stream",
     "text": [
      "Swarm initialized: current node (jp3yeaijq1ne69evozl95hfc1) is now a manager.\n",
      "\n",
      "To add a worker to this swarm, run the following command:\n",
      "\n",
      "    docker swarm join --token SWMTKN-1-5tmjlpf3obk5owtpvgpuwbo4vvjjhjiqi7lng9gz2sthci2kdg-3ubvdmj0eu9drvpg9vjavm6n7 10.10.1.60:2377\n",
      "\n",
      "To add a manager to this swarm, run 'docker swarm join-token manager' and follow the instructions.\n",
      "\n"
     ]
    }
   ],
   "source": [
    "%%bash \n",
    "docker swarm init"
   ]
  },
  {
   "cell_type": "markdown",
   "metadata": {},
   "source": [
    "To join additional nodes to the swarm\n",
    "\n",
    "    docker swarm join --token SWMTKN-1-5tmjlpf3obk5owtpvgpuwbo4vvjjhjiqi7lng9gz2sthci2kdg-3ubvdmj0eu9drvpg9vjavm6n7 10.10.1.60:2377\n",
    "\n",
    "Get the join command again\n",
    "\n",
    "    docker swarm join-token worker \n",
    "    docker swarm join-token manager\n"
   ]
  },
  {
   "cell_type": "markdown",
   "metadata": {},
   "source": [
    "#### State the differences between running a container vs running a service"
   ]
  },
  {
   "cell_type": "markdown",
   "metadata": {},
   "source": [
    "Containers can be managed in different ways and depends on the application. You can run containers and manage them individually by using 'docker run' or when running in Swarm mode ability to use 'docker service'. Docker service allows running multiple containers and defining how they should be spread across nodes for availability, deployment stratergies, the network type, port etc..\n",
    "\n",
    "docker service is the new docker run \n",
    "\n",
    "http://events.linuxfoundation.org/sites/events/files/slides/ContainerCon%20Berlin%20%28Goelzer%29%20-%20Upload%209-18-2016.pdf"
   ]
  },
  {
   "cell_type": "markdown",
   "metadata": {},
   "source": [
    "#### Demonstrate steps to lock a swarm cluster"
   ]
  },
  {
   "cell_type": "markdown",
   "metadata": {},
   "source": [
    "Auto lock the swarm\n",
    "\n",
    "    docker swarm init --auto-lock \n",
    "    docker swarm update --autolock=true\n"
   ]
  },
  {
   "cell_type": "markdown",
   "metadata": {},
   "source": [
    "#### Extend the instructions to run individual containers into running services under swarm"
   ]
  },
  {
   "cell_type": "markdown",
   "metadata": {},
   "source": [
    "docker service create --name testweb -p 80:80 httpd"
   ]
  },
  {
   "cell_type": "code",
   "execution_count": 10,
   "metadata": {},
   "outputs": [
    {
     "name": "stdout",
     "output_type": "stream",
     "text": [
      "ID                  NAME                MODE                REPLICAS            IMAGE               PORTS\n",
      "pq1i6airnwry        testweb             replicated          1/1                 httpd:latest        *:80->80/tcp\n"
     ]
    }
   ],
   "source": [
    "%%bash\n",
    "docker service ls"
   ]
  },
  {
   "cell_type": "markdown",
   "metadata": {},
   "source": [
    "#### Interpret the output of \"docker inspect\" commands"
   ]
  },
  {
   "cell_type": "code",
   "execution_count": 2,
   "metadata": {},
   "outputs": [
    {
     "name": "stdout",
     "output_type": "stream",
     "text": [
      "[\n",
      "    {\n",
      "        \"Id\": \"sha256:1e1148e4cc2c148c6890a18e3b2d2dde41a6745ceb4e5fe94a923d811bf82ddb\",\n",
      "        \"RepoTags\": [\n",
      "            \"centos:latest\"\n",
      "        ],\n",
      "        \"RepoDigests\": [\n",
      "            \"centos@sha256:184e5f35598e333bfa7de10d8fb1cebb5ee4df5bc0f970bf2b1e7c7345136426\"\n",
      "        ],\n",
      "        \"Parent\": \"\",\n",
      "        \"Comment\": \"\",\n",
      "        \"Created\": \"2018-12-06T00:21:07.135655444Z\",\n",
      "        \"Container\": \"1fdbb0fcc184eb795364f7aa5fdc00299d0a2b90d8e26b4696217c22da7f983f\",\n",
      "        \"ContainerConfig\": {\n",
      "            \"Hostname\": \"1fdbb0fcc184\",\n",
      "            \"Domainname\": \"\",\n",
      "            \"User\": \"\",\n",
      "            \"AttachStdin\": false,\n",
      "            \"AttachStdout\": false,\n",
      "            \"AttachStderr\": false,\n",
      "            \"Tty\": false,\n",
      "            \"OpenStdin\": false,\n",
      "            \"StdinOnce\": false,\n",
      "            \"Env\": [\n",
      "                \"PATH=/usr/local/sbin:/usr/local/bin:/usr/sbin:/usr/bin:/sbin:/bin\"\n",
      "            ],\n",
      "            \"Cmd\": [\n",
      "                \"/bin/sh\",\n",
      "                \"-c\",\n",
      "                \"#(nop) \",\n",
      "                \"CMD [\\\"/bin/bash\\\"]\"\n",
      "            ],\n",
      "            \"ArgsEscaped\": true,\n",
      "            \"Image\": \"sha256:b3a68d99a4a4195c6c97c2345b83cb2d6cfd1661247816ac403cf0b584437ad7\",\n",
      "            \"Volumes\": null,\n",
      "            \"WorkingDir\": \"\",\n",
      "            \"Entrypoint\": null,\n",
      "            \"OnBuild\": null,\n",
      "            \"Labels\": {\n",
      "                \"org.label-schema.build-date\": \"20181205\",\n",
      "                \"org.label-schema.license\": \"GPLv2\",\n",
      "                \"org.label-schema.name\": \"CentOS Base Image\",\n",
      "                \"org.label-schema.schema-version\": \"1.0\",\n",
      "                \"org.label-schema.vendor\": \"CentOS\"\n",
      "            }\n",
      "        },\n",
      "        \"DockerVersion\": \"17.06.2-ce\",\n",
      "        \"Author\": \"\",\n",
      "        \"Config\": {\n",
      "            \"Hostname\": \"\",\n",
      "            \"Domainname\": \"\",\n",
      "            \"User\": \"\",\n",
      "            \"AttachStdin\": false,\n",
      "            \"AttachStdout\": false,\n",
      "            \"AttachStderr\": false,\n",
      "            \"Tty\": false,\n",
      "            \"OpenStdin\": false,\n",
      "            \"StdinOnce\": false,\n",
      "            \"Env\": [\n",
      "                \"PATH=/usr/local/sbin:/usr/local/bin:/usr/sbin:/usr/bin:/sbin:/bin\"\n",
      "            ],\n",
      "            \"Cmd\": [\n",
      "                \"/bin/bash\"\n",
      "            ],\n",
      "            \"ArgsEscaped\": true,\n",
      "            \"Image\": \"sha256:b3a68d99a4a4195c6c97c2345b83cb2d6cfd1661247816ac403cf0b584437ad7\",\n",
      "            \"Volumes\": null,\n",
      "            \"WorkingDir\": \"\",\n",
      "            \"Entrypoint\": null,\n",
      "            \"OnBuild\": null,\n",
      "            \"Labels\": {\n",
      "                \"org.label-schema.build-date\": \"20181205\",\n",
      "                \"org.label-schema.license\": \"GPLv2\",\n",
      "                \"org.label-schema.name\": \"CentOS Base Image\",\n",
      "                \"org.label-schema.schema-version\": \"1.0\",\n",
      "                \"org.label-schema.vendor\": \"CentOS\"\n",
      "            }\n",
      "        },\n",
      "        \"Architecture\": \"amd64\",\n",
      "        \"Os\": \"linux\",\n",
      "        \"Size\": 201779604,\n",
      "        \"VirtualSize\": 201779604,\n",
      "        \"GraphDriver\": {\n",
      "            \"Data\": {\n",
      "                \"MergedDir\": \"/var/lib/docker/overlay2/96487ff6f8697a8d0e05887be411d9f12b88ffb59689db4a1b98b02ff370eba5/merged\",\n",
      "                \"UpperDir\": \"/var/lib/docker/overlay2/96487ff6f8697a8d0e05887be411d9f12b88ffb59689db4a1b98b02ff370eba5/diff\",\n",
      "                \"WorkDir\": \"/var/lib/docker/overlay2/96487ff6f8697a8d0e05887be411d9f12b88ffb59689db4a1b98b02ff370eba5/work\"\n",
      "            },\n",
      "            \"Name\": \"overlay2\"\n",
      "        },\n",
      "        \"RootFS\": {\n",
      "            \"Type\": \"layers\",\n",
      "            \"Layers\": [\n",
      "                \"sha256:071d8bd765171080d01682844524be57ac9883e53079b6ac66707e192ea25956\"\n",
      "            ]\n",
      "        },\n",
      "        \"Metadata\": {\n",
      "            \"LastTagTime\": \"2019-01-19T11:24:45.253638235Z\"\n",
      "        }\n",
      "    }\n",
      "]\n"
     ]
    }
   ],
   "source": [
    "%%bash \n",
    "docker inspect centos"
   ]
  },
  {
   "cell_type": "markdown",
   "metadata": {},
   "source": [
    "ID: When running 'docker images' this is the Image ID, a sha256 digest of the JSON config.  \n",
    "RepoTags: The version of the docker image \n",
    "RepoDigests:\n",
    "Parent: The container this image was based off\n",
    "Comment: Comments within the dockerfile \n",
    "Created: The time the image was created \n",
    "Container: \n",
    "ContainerConfig: Container this image was created from\n",
    " Hostname: Name of the container\n",
    " Domainname: Domainname for container \n",
    " User: The user this container should use \n",
    " AttachStdin: Attach local standard input stream into a running container\n",
    " Tty: Text input output environment \n",
    " OpenStdin:\n",
    " StdinOnce:\n",
    " Env: Environmemnt variable \n",
    " Cmd: Commands being run \n",
    " ArgsEscaped: \n",
    " Image: Image used within dockerfile\n",
    " Volumes: Persistent data \n",
    " WorkingDir: Sets working directory for commands run on the dockerfile \n",
    " Entrypoint: This might be something like /bin/bash or /bin/sh\n",
    " OnBuild: Executes after the dockerfile build completes. Executes in any child image derived from current image. \n",
    " Labels: Key-Value pair of image information \n",
    "DockerVersion: Docker version information \n",
    "Author: This is taken from maintainer information \n",
    "Config:\n",
    "Architecture: Architecture type \n",
    "Os: Operating System \n",
    "Size: Size of Image  \n",
    "VirtualSize: Size of Image \n",
    "GraphDriver: \n",
    "RootFS\n",
    "Metadata: "
   ]
  },
  {
   "cell_type": "markdown",
   "metadata": {},
   "source": [
    "#### Convert an application deployment into a stack file using a YAML compose file with \"docker stack deploy\""
   ]
  },
  {
   "cell_type": "code",
   "execution_count": 12,
   "metadata": {},
   "outputs": [
    {
     "name": "stderr",
     "output_type": "stream",
     "text": [
      "  % Total    % Received % Xferd  Average Speed   Time    Time     Time  Current\n",
      "                                 Dload  Upload   Total   Spent    Left  Speed\n",
      "\r",
      "  0     0    0     0    0     0      0      0 --:--:-- --:--:-- --:--:--     0\r",
      "  0     0    0     0    0     0      0      0 --:--:-- --:--:-- --:--:--     0\r",
      "100   617    0   617    0     0   1615      0 --:--:-- --:--:-- --:--:--  1615\n",
      "\r",
      " 18 11.2M   18 2085k    0     0  1825k      0  0:00:06  0:00:01  0:00:05 1825k\r",
      "100 11.2M  100 11.2M    0     0  7201k      0  0:00:01  0:00:01 --:--:-- 20.3M\n"
     ]
    }
   ],
   "source": [
    "%%bash \n",
    "sudo curl -L \"https://github.com/docker/compose/releases/download/1.23.2/docker-compose-$(uname -s)-$(uname -m)\" -o /usr/local/bin/docker-compose"
   ]
  },
  {
   "cell_type": "code",
   "execution_count": 13,
   "metadata": {},
   "outputs": [],
   "source": [
    "%%bash\n",
    "sudo chmod +x /usr/local/bin/docker-compose"
   ]
  },
  {
   "cell_type": "code",
   "execution_count": 15,
   "metadata": {},
   "outputs": [],
   "source": [
    "%%bash\n",
    "sudo ln -s /usr/local/bin/docker-compose /usr/bin/docker-compose"
   ]
  },
  {
   "cell_type": "code",
   "execution_count": 18,
   "metadata": {},
   "outputs": [
    {
     "name": "stdout",
     "output_type": "stream",
     "text": [
      "docker-compose version 1.23.2, build 1110ad01\n"
     ]
    }
   ],
   "source": [
    "%%bash\n",
    "docker-compose --version"
   ]
  },
  {
   "cell_type": "code",
   "execution_count": 2,
   "metadata": {},
   "outputs": [
    {
     "name": "stdout",
     "output_type": "stream",
     "text": [
      "Creating service stack_redis\n",
      "Creating service stack_web\n"
     ]
    }
   ],
   "source": [
    "%%bash\n",
    "docker stack deploy --compose-file docker-compose.yml stack"
   ]
  },
  {
   "cell_type": "code",
   "execution_count": 3,
   "metadata": {},
   "outputs": [
    {
     "name": "stdout",
     "output_type": "stream",
     "text": [
      "ID                  NAME                MODE                REPLICAS            IMAGE               PORTS\n",
      "1k0nmot8tr3s        stack_redis         replicated          1/1                 redis:latest        \n",
      "d6zhy2je0j0p        stack_web           replicated          1/1                 httpd:latest        *:5000->5000/tcp\n"
     ]
    }
   ],
   "source": [
    "%%bash\n",
    "docker service ls "
   ]
  },
  {
   "cell_type": "markdown",
   "metadata": {},
   "source": [
    "#### Manipulate a running stack of services"
   ]
  },
  {
   "cell_type": "code",
   "execution_count": 8,
   "metadata": {},
   "outputs": [
    {
     "name": "stdout",
     "output_type": "stream",
     "text": [
      "stack_redis\n"
     ]
    }
   ],
   "source": [
    "%%bash\n",
    "docker service rm stack_redis "
   ]
  },
  {
   "cell_type": "code",
   "execution_count": 19,
   "metadata": {},
   "outputs": [
    {
     "name": "stderr",
     "output_type": "stream",
     "text": [
      "Error: No such service: centos\n"
     ]
    }
   ],
   "source": [
    "%%bash\n",
    "docker service update --limit-cpu=.5 --reserve-cpu=1 --limit-memory=128m --reserve-memory=256m centos"
   ]
  },
  {
   "cell_type": "markdown",
   "metadata": {},
   "source": [
    "#### Increase # of replicas"
   ]
  },
  {
   "cell_type": "code",
   "execution_count": 9,
   "metadata": {},
   "outputs": [
    {
     "name": "stdout",
     "output_type": "stream",
     "text": [
      "stack_web\n",
      "overall progress: 0 out of 3 tasks\n",
      "1/3:  \n",
      "2/3:  \n",
      "3/3:  \n",
      "overall progress: 3 out of 3 tasks\n",
      "verify: Waiting 5 seconds to verify that tasks are stable...\n",
      "verify: Waiting 5 seconds to verify that tasks are stable...\n",
      "verify: Waiting 5 seconds to verify that tasks are stable...\n",
      "verify: Waiting 5 seconds to verify that tasks are stable...\n",
      "verify: Waiting 5 seconds to verify that tasks are stable...\n",
      "verify: Waiting 4 seconds to verify that tasks are stable...\n",
      "verify: Waiting 4 seconds to verify that tasks are stable...\n",
      "verify: Waiting 4 seconds to verify that tasks are stable...\n",
      "verify: Waiting 4 seconds to verify that tasks are stable...\n",
      "verify: Waiting 4 seconds to verify that tasks are stable...\n",
      "verify: Waiting 3 seconds to verify that tasks are stable...\n",
      "verify: Waiting 3 seconds to verify that tasks are stable...\n",
      "verify: Waiting 3 seconds to verify that tasks are stable...\n",
      "verify: Waiting 3 seconds to verify that tasks are stable...\n",
      "verify: Waiting 3 seconds to verify that tasks are stable...\n",
      "verify: Waiting 2 seconds to verify that tasks are stable...\n",
      "verify: Waiting 2 seconds to verify that tasks are stable...\n",
      "verify: Waiting 2 seconds to verify that tasks are stable...\n",
      "verify: Waiting 2 seconds to verify that tasks are stable...\n",
      "verify: Waiting 2 seconds to verify that tasks are stable...\n",
      "verify: Waiting 1 seconds to verify that tasks are stable...\n",
      "verify: Waiting 1 seconds to verify that tasks are stable...\n",
      "verify: Waiting 1 seconds to verify that tasks are stable...\n",
      "verify: Waiting 1 seconds to verify that tasks are stable...\n",
      "verify: Waiting 1 seconds to verify that tasks are stable...\n",
      "verify: Service converged\n"
     ]
    }
   ],
   "source": [
    "%%bash \n",
    "docker service update --replicas 3 stack_web"
   ]
  },
  {
   "cell_type": "markdown",
   "metadata": {},
   "source": [
    "#### Add networks, publish ports"
   ]
  },
  {
   "cell_type": "code",
   "execution_count": 15,
   "metadata": {},
   "outputs": [
    {
     "name": "stdout",
     "output_type": "stream",
     "text": [
      "stack_web\n",
      "overall progress: 0 out of 3 tasks\n",
      "1/3:  \n",
      "2/3:  \n",
      "3/3:  \n",
      "overall progress: 0 out of 3 tasks\n",
      "overall progress: 0 out of 3 tasks\n",
      "overall progress: 0 out of 3 tasks\n",
      "overall progress: 0 out of 3 tasks\n",
      "overall progress: 0 out of 3 tasks\n",
      "overall progress: 0 out of 3 tasks\n",
      "overall progress: 0 out of 3 tasks\n",
      "overall progress: 0 out of 3 tasks\n",
      "overall progress: 0 out of 3 tasks\n",
      "overall progress: 0 out of 3 tasks\n",
      "overall progress: 0 out of 3 tasks\n",
      "overall progress: 0 out of 3 tasks\n",
      "overall progress: 0 out of 3 tasks\n",
      "overall progress: 0 out of 3 tasks\n",
      "overall progress: 0 out of 3 tasks\n",
      "overall progress: 0 out of 3 tasks\n",
      "overall progress: 0 out of 3 tasks\n",
      "overall progress: 0 out of 3 tasks\n",
      "overall progress: 0 out of 3 tasks\n",
      "overall progress: 0 out of 3 tasks\n",
      "overall progress: 0 out of 3 tasks\n",
      "overall progress: 0 out of 3 tasks\n",
      "overall progress: 0 out of 3 tasks\n",
      "overall progress: 0 out of 3 tasks\n",
      "overall progress: 1 out of 3 tasks\n",
      "overall progress: 1 out of 3 tasks\n",
      "overall progress: 1 out of 3 tasks\n",
      "overall progress: 1 out of 3 tasks\n",
      "overall progress: 1 out of 3 tasks\n",
      "overall progress: 1 out of 3 tasks\n",
      "overall progress: 1 out of 3 tasks\n",
      "overall progress: 1 out of 3 tasks\n",
      "overall progress: 1 out of 3 tasks\n",
      "overall progress: 1 out of 3 tasks\n",
      "overall progress: 1 out of 3 tasks\n",
      "overall progress: 1 out of 3 tasks\n",
      "overall progress: 1 out of 3 tasks\n",
      "overall progress: 1 out of 3 tasks\n",
      "overall progress: 1 out of 3 tasks\n",
      "overall progress: 1 out of 3 tasks\n",
      "overall progress: 1 out of 3 tasks\n",
      "overall progress: 1 out of 3 tasks\n",
      "overall progress: 1 out of 3 tasks\n",
      "overall progress: 1 out of 3 tasks\n",
      "overall progress: 1 out of 3 tasks\n",
      "overall progress: 2 out of 3 tasks\n",
      "overall progress: 2 out of 3 tasks\n",
      "overall progress: 2 out of 3 tasks\n",
      "overall progress: 2 out of 3 tasks\n",
      "overall progress: 2 out of 3 tasks\n",
      "overall progress: 2 out of 3 tasks\n",
      "overall progress: 2 out of 3 tasks\n",
      "overall progress: 2 out of 3 tasks\n",
      "overall progress: 2 out of 3 tasks\n",
      "overall progress: 2 out of 3 tasks\n",
      "overall progress: 2 out of 3 tasks\n",
      "overall progress: 2 out of 3 tasks\n",
      "overall progress: 2 out of 3 tasks\n",
      "overall progress: 2 out of 3 tasks\n",
      "overall progress: 2 out of 3 tasks\n",
      "overall progress: 2 out of 3 tasks\n",
      "overall progress: 2 out of 3 tasks\n",
      "overall progress: 2 out of 3 tasks\n",
      "overall progress: 2 out of 3 tasks\n",
      "overall progress: 2 out of 3 tasks\n",
      "overall progress: 2 out of 3 tasks\n",
      "overall progress: 2 out of 3 tasks\n",
      "overall progress: 3 out of 3 tasks\n",
      "verify: Waiting 5 seconds to verify that tasks are stable...\n",
      "verify: Waiting 5 seconds to verify that tasks are stable...\n",
      "verify: Waiting 5 seconds to verify that tasks are stable...\n",
      "verify: Waiting 5 seconds to verify that tasks are stable...\n",
      "verify: Waiting 5 seconds to verify that tasks are stable...\n",
      "verify: Waiting 4 seconds to verify that tasks are stable...\n",
      "verify: Waiting 4 seconds to verify that tasks are stable...\n",
      "verify: Waiting 4 seconds to verify that tasks are stable...\n",
      "verify: Waiting 4 seconds to verify that tasks are stable...\n",
      "verify: Waiting 4 seconds to verify that tasks are stable...\n",
      "verify: Waiting 3 seconds to verify that tasks are stable...\n",
      "verify: Waiting 3 seconds to verify that tasks are stable...\n",
      "verify: Waiting 3 seconds to verify that tasks are stable...\n",
      "verify: Waiting 3 seconds to verify that tasks are stable...\n",
      "verify: Waiting 3 seconds to verify that tasks are stable...\n",
      "verify: Waiting 2 seconds to verify that tasks are stable...\n",
      "verify: Waiting 2 seconds to verify that tasks are stable...\n",
      "verify: Waiting 2 seconds to verify that tasks are stable...\n",
      "verify: Waiting 2 seconds to verify that tasks are stable...\n",
      "verify: Waiting 2 seconds to verify that tasks are stable...\n",
      "verify: Waiting 1 seconds to verify that tasks are stable...\n",
      "verify: Waiting 1 seconds to verify that tasks are stable...\n",
      "verify: Waiting 1 seconds to verify that tasks are stable...\n",
      "verify: Waiting 1 seconds to verify that tasks are stable...\n",
      "verify: Waiting 1 seconds to verify that tasks are stable...\n",
      "verify: Service converged\n"
     ]
    }
   ],
   "source": [
    "%%bash \n",
    "docker service update --publish-add 8080 stack_web"
   ]
  },
  {
   "cell_type": "code",
   "execution_count": 16,
   "metadata": {},
   "outputs": [
    {
     "name": "stdout",
     "output_type": "stream",
     "text": [
      "ID                  NAME                MODE                REPLICAS            IMAGE               PORTS\n",
      "d6zhy2je0j0p        stack_web           replicated          3/3                 httpd:latest        *:5000->5000/tcp, *:30001->80/tcp, *:30002->8080/tcp\n"
     ]
    }
   ],
   "source": [
    "%%bash\n",
    "docker service ls"
   ]
  },
  {
   "cell_type": "markdown",
   "metadata": {},
   "source": [
    "#### Mount volumes"
   ]
  },
  {
   "cell_type": "code",
   "execution_count": 23,
   "metadata": {},
   "outputs": [
    {
     "name": "stdout",
     "output_type": "stream",
     "text": [
      "datavol\n"
     ]
    }
   ],
   "source": [
    "%%bash \n",
    "docker volume create datavol"
   ]
  },
  {
   "cell_type": "code",
   "execution_count": 26,
   "metadata": {},
   "outputs": [],
   "source": [
    "%%bash \n",
    "sudo cp -r *  /var/lib/docker/volumes/datavol/_data/"
   ]
  },
  {
   "cell_type": "code",
   "execution_count": 7,
   "metadata": {},
   "outputs": [
    {
     "name": "stdout",
     "output_type": "stream",
     "text": [
      "5d9d3cafe13cbfec7c32193a38ab9f2e386b07142e50e3ce7410a24c14cc93a2\n"
     ]
    }
   ],
   "source": [
    "%%bash \n",
    "docker run -d --mount source=datavol,target=/app centos:latest"
   ]
  },
  {
   "cell_type": "markdown",
   "metadata": {},
   "source": [
    "#### Illustrate running a replicated vs global service"
   ]
  },
  {
   "cell_type": "markdown",
   "metadata": {},
   "source": [
    "![title](replicated-vs-global.png)"
   ]
  },
  {
   "cell_type": "markdown",
   "metadata": {},
   "source": [
    "Replicated service, you specify the number of identical tasks you want to run. For example, you decide to deploy an HTTP service with three replicas, each serving the same content."
   ]
  },
  {
   "cell_type": "markdown",
   "metadata": {},
   "source": [
    "Global service is a service that runs one task on every node. There is no pre-specified number of tasks. Each time you add a node to the swarm, the orchestrator creates a task and the scheduler assigns the task to the new node. Good candidates for global services are monitoring agents, an anti-virus scanners or other types of containers that you want to run on every node in the swarm."
   ]
  },
  {
   "cell_type": "code",
   "execution_count": 5,
   "metadata": {},
   "outputs": [
    {
     "name": "stdout",
     "output_type": "stream",
     "text": [
      "07ps2ju9h0qx0qirkuurnugy5\n",
      "overall progress: 0 out of 1 tasks\n",
      "1/1:  \n",
      "overall progress: 0 out of 1 tasks\n",
      "overall progress: 0 out of 1 tasks\n",
      "overall progress: 0 out of 1 tasks\n",
      "overall progress: 0 out of 1 tasks\n",
      "overall progress: 0 out of 1 tasks\n",
      "overall progress: 0 out of 1 tasks\n",
      "overall progress: 0 out of 1 tasks\n",
      "overall progress: 0 out of 1 tasks\n",
      "overall progress: 0 out of 1 tasks\n",
      "overall progress: 0 out of 1 tasks\n",
      "overall progress: 0 out of 1 tasks\n",
      "overall progress: 0 out of 1 tasks\n",
      "overall progress: 0 out of 1 tasks\n",
      "overall progress: 0 out of 1 tasks\n",
      "overall progress: 0 out of 1 tasks\n",
      "overall progress: 0 out of 1 tasks\n",
      "overall progress: 0 out of 1 tasks\n",
      "overall progress: 0 out of 1 tasks\n",
      "overall progress: 1 out of 1 tasks\n",
      "verify: Waiting 5 seconds to verify that tasks are stable...\n",
      "verify: Waiting 5 seconds to verify that tasks are stable...\n",
      "verify: Waiting 5 seconds to verify that tasks are stable...\n",
      "verify: Waiting 5 seconds to verify that tasks are stable...\n",
      "verify: Waiting 5 seconds to verify that tasks are stable...\n",
      "verify: Waiting 4 seconds to verify that tasks are stable...\n",
      "verify: Waiting 4 seconds to verify that tasks are stable...\n",
      "verify: Waiting 4 seconds to verify that tasks are stable...\n",
      "verify: Waiting 4 seconds to verify that tasks are stable...\n",
      "verify: Waiting 4 seconds to verify that tasks are stable...\n",
      "verify: Waiting 3 seconds to verify that tasks are stable...\n",
      "verify: Waiting 3 seconds to verify that tasks are stable...\n",
      "verify: Waiting 3 seconds to verify that tasks are stable...\n",
      "verify: Waiting 3 seconds to verify that tasks are stable...\n",
      "verify: Waiting 3 seconds to verify that tasks are stable...\n",
      "verify: Waiting 2 seconds to verify that tasks are stable...\n",
      "verify: Waiting 2 seconds to verify that tasks are stable...\n",
      "verify: Waiting 2 seconds to verify that tasks are stable...\n",
      "verify: Waiting 2 seconds to verify that tasks are stable...\n",
      "verify: Waiting 2 seconds to verify that tasks are stable...\n",
      "verify: Waiting 1 seconds to verify that tasks are stable...\n",
      "verify: Waiting 1 seconds to verify that tasks are stable...\n",
      "verify: Waiting 1 seconds to verify that tasks are stable...\n",
      "verify: Waiting 1 seconds to verify that tasks are stable...\n",
      "verify: Waiting 1 seconds to verify that tasks are stable...\n",
      "verify: Service converged\n"
     ]
    }
   ],
   "source": [
    "%%bash\n",
    "docker service create httpd"
   ]
  },
  {
   "cell_type": "code",
   "execution_count": 7,
   "metadata": {},
   "outputs": [
    {
     "name": "stdout",
     "output_type": "stream",
     "text": [
      "ID                  NAME                    MODE                REPLICAS            IMAGE               PORTS\n",
      "gkpb4ffb6vz0        condescending_khorana   replicated          0/1                 centos:latest       \n",
      "07ps2ju9h0qx        determined_lamport      replicated          1/1                 httpd:latest        \n",
      "yvibump8alf7        loving_hopper           replicated          0/3                 centos:latest       \n",
      "c75dl6gb6qt1        nifty_kowalevski        replicated          0/1                 centos:latest       \n",
      "d6zhy2je0j0p        stack_web               replicated          3/3                 httpd:latest        *:5000->5000/tcp, *:30001->80/tcp, *:30002->8080/tcp\n"
     ]
    }
   ],
   "source": [
    "%%bash\n",
    "docker service ls "
   ]
  },
  {
   "cell_type": "code",
   "execution_count": 8,
   "metadata": {},
   "outputs": [
    {
     "name": "stdout",
     "output_type": "stream",
     "text": [
      "determined_lamport\n",
      "overall progress: 0 out of 3 tasks\n",
      "1/3:  \n",
      "2/3:  \n",
      "3/3:  \n",
      "overall progress: 1 out of 3 tasks\n",
      "overall progress: 1 out of 3 tasks\n",
      "overall progress: 1 out of 3 tasks\n",
      "overall progress: 1 out of 3 tasks\n",
      "overall progress: 1 out of 3 tasks\n",
      "overall progress: 3 out of 3 tasks\n",
      "verify: Waiting 5 seconds to verify that tasks are stable...\n",
      "verify: Waiting 5 seconds to verify that tasks are stable...\n",
      "verify: Waiting 5 seconds to verify that tasks are stable...\n",
      "verify: Waiting 5 seconds to verify that tasks are stable...\n",
      "verify: Waiting 5 seconds to verify that tasks are stable...\n",
      "verify: Waiting 4 seconds to verify that tasks are stable...\n",
      "verify: Waiting 4 seconds to verify that tasks are stable...\n",
      "verify: Waiting 4 seconds to verify that tasks are stable...\n",
      "verify: Waiting 4 seconds to verify that tasks are stable...\n",
      "verify: Waiting 4 seconds to verify that tasks are stable...\n",
      "verify: Waiting 3 seconds to verify that tasks are stable...\n",
      "verify: Waiting 3 seconds to verify that tasks are stable...\n",
      "verify: Waiting 3 seconds to verify that tasks are stable...\n",
      "verify: Waiting 3 seconds to verify that tasks are stable...\n",
      "verify: Waiting 3 seconds to verify that tasks are stable...\n",
      "verify: Waiting 2 seconds to verify that tasks are stable...\n",
      "verify: Waiting 2 seconds to verify that tasks are stable...\n",
      "verify: Waiting 2 seconds to verify that tasks are stable...\n",
      "verify: Waiting 2 seconds to verify that tasks are stable...\n",
      "verify: Waiting 2 seconds to verify that tasks are stable...\n",
      "verify: Waiting 1 seconds to verify that tasks are stable...\n",
      "verify: Waiting 1 seconds to verify that tasks are stable...\n",
      "verify: Waiting 1 seconds to verify that tasks are stable...\n",
      "verify: Waiting 1 seconds to verify that tasks are stable...\n",
      "verify: Waiting 1 seconds to verify that tasks are stable...\n",
      "verify: Service converged\n"
     ]
    }
   ],
   "source": [
    "%%bash\n",
    "docker service update --replicas 3 determined_lamport"
   ]
  },
  {
   "cell_type": "code",
   "execution_count": 10,
   "metadata": {},
   "outputs": [
    {
     "name": "stdout",
     "output_type": "stream",
     "text": [
      "07ps2ju9h0qx        determined_lamport      replicated          3/3                 httpd:latest        \n"
     ]
    }
   ],
   "source": [
    "%%bash \n",
    "docker service ls | grep determined_lamport"
   ]
  },
  {
   "cell_type": "code",
   "execution_count": 13,
   "metadata": {},
   "outputs": [
    {
     "name": "stdout",
     "output_type": "stream",
     "text": [
      "f9we96x8zbl863v4326g0b3ct\n",
      "overall progress: 0 out of 1 tasks\n",
      "overall progress: 0 out of 1 tasks\n",
      "overall progress: 0 out of 1 tasks\n",
      "overall progress: 0 out of 1 tasks\n",
      "overall progress: 0 out of 1 tasks\n",
      "overall progress: 0 out of 1 tasks\n",
      "overall progress: 0 out of 1 tasks\n",
      "overall progress: 1 out of 1 tasks\n",
      "verify: Waiting 5 seconds to verify that tasks are stable...\n",
      "verify: Waiting 5 seconds to verify that tasks are stable...\n",
      "verify: Waiting 5 seconds to verify that tasks are stable...\n",
      "verify: Waiting 5 seconds to verify that tasks are stable...\n",
      "verify: Waiting 5 seconds to verify that tasks are stable...\n",
      "verify: Waiting 4 seconds to verify that tasks are stable...\n",
      "verify: Waiting 4 seconds to verify that tasks are stable...\n",
      "verify: Waiting 4 seconds to verify that tasks are stable...\n",
      "verify: Waiting 4 seconds to verify that tasks are stable...\n",
      "verify: Waiting 4 seconds to verify that tasks are stable...\n",
      "verify: Waiting 3 seconds to verify that tasks are stable...\n",
      "verify: Waiting 3 seconds to verify that tasks are stable...\n",
      "verify: Waiting 3 seconds to verify that tasks are stable...\n",
      "verify: Waiting 3 seconds to verify that tasks are stable...\n",
      "verify: Waiting 3 seconds to verify that tasks are stable...\n",
      "verify: Waiting 2 seconds to verify that tasks are stable...\n",
      "verify: Waiting 2 seconds to verify that tasks are stable...\n",
      "verify: Waiting 2 seconds to verify that tasks are stable...\n",
      "verify: Waiting 2 seconds to verify that tasks are stable...\n",
      "verify: Waiting 2 seconds to verify that tasks are stable...\n",
      "verify: Waiting 1 seconds to verify that tasks are stable...\n",
      "verify: Waiting 1 seconds to verify that tasks are stable...\n",
      "verify: Waiting 1 seconds to verify that tasks are stable...\n",
      "verify: Waiting 1 seconds to verify that tasks are stable...\n",
      "verify: Waiting 1 seconds to verify that tasks are stable...\n",
      "verify: Service converged\n"
     ]
    }
   ],
   "source": [
    "%%bash \n",
    "docker service create -p 5901:80 --mode global httpd"
   ]
  },
  {
   "cell_type": "markdown",
   "metadata": {},
   "source": [
    "#### Identify the steps needed to troubleshoot a service not deploying"
   ]
  },
  {
   "cell_type": "code",
   "execution_count": null,
   "metadata": {},
   "outputs": [],
   "source": []
  },
  {
   "cell_type": "markdown",
   "metadata": {},
   "source": [
    "#### Apply node labels to demonstrate placement of tasks"
   ]
  },
  {
   "cell_type": "code",
   "execution_count": null,
   "metadata": {},
   "outputs": [],
   "source": [
    "%%bash\n",
    "docker service create --name constraints -p 80:80 --constraint 'node.labels.mynode == mainnode' --replicas 3 httpd"
   ]
  },
  {
   "cell_type": "markdown",
   "metadata": {},
   "source": [
    "#### Sketch how a Dockerized application communicates with legacy systems"
   ]
  },
  {
   "cell_type": "code",
   "execution_count": null,
   "metadata": {},
   "outputs": [],
   "source": []
  },
  {
   "cell_type": "markdown",
   "metadata": {},
   "source": [
    "#### Paraphrase the importance of quorum in a swarm cluster"
   ]
  },
  {
   "cell_type": "markdown",
   "metadata": {},
   "source": [
    "When the Docker Engine runs in swarm mode, manager nodes implement the Raft Consensus Algorithm to manage the global cluster state.\n",
    "\n",
    "The reason why Docker swarm mode is using a consensus algorithm is to make sure that all the manager nodes that are in charge of managing and scheduling tasks in the cluster, are storing the same consistent state.\n",
    "\n",
    "Having the same consistent state across the cluster means that in case of a failure, any Manager node can pick up the tasks and restore the services to a stable state. For example, if the Leader Manager which is responsible for scheduling tasks in the cluster dies unexpectedly, any other Manager can pick up the task of scheduling and re-balance tasks to match the desired state.\n",
    "\n",
    "Systems using consensus algorithms to replicate logs in a distributed systems do require special care. They ensure that the cluster state stays consistent in the presence of failures by requiring a majority of nodes to agree on values.\n",
    "\n",
    "Raft tolerates up to (N-1)/2 failures and requires a majority or quorum of (N/2)+1 members to agree on values proposed to the cluster. This means that in a cluster of 5 Managers running Raft, if 3 nodes are unavailable, the system cannot process any more requests to schedule additional tasks. The existing tasks keep running but the scheduler cannot rebalance tasks to cope with failures if the manager set is not healthy."
   ]
  },
  {
   "cell_type": "markdown",
   "metadata": {},
   "source": [
    "#### Demonstrate the usage of templates with \"docker service create\""
   ]
  },
  {
   "cell_type": "code",
   "execution_count": null,
   "metadata": {},
   "outputs": [],
   "source": [
    "%%bash\n",
    "docker service create --name myweb --hostname=\"{{.Node.ID}}-{{.Service.Name}}\" httpd5%"
   ]
  }
 ],
 "metadata": {
  "kernelspec": {
   "display_name": "Python 2",
   "language": "python",
   "name": "python2"
  },
  "language_info": {
   "codemirror_mode": {
    "name": "ipython",
    "version": 2
   },
   "file_extension": ".py",
   "mimetype": "text/x-python",
   "name": "python",
   "nbconvert_exporter": "python",
   "pygments_lexer": "ipython2",
   "version": "2.7.5"
  }
 },
 "nbformat": 4,
 "nbformat_minor": 2
}
